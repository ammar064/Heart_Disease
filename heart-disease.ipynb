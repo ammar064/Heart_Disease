{
 "cells": [
  {
   "cell_type": "markdown",
   "id": "c0ef5831",
   "metadata": {
    "papermill": {
     "duration": 0.009757,
     "end_time": "2023-08-02T11:25:12.963553",
     "exception": false,
     "start_time": "2023-08-02T11:25:12.953796",
     "status": "completed"
    },
    "tags": []
   },
   "source": [
    "# Heart Disease Analysis"
   ]
  },
  {
   "cell_type": "markdown",
   "id": "f688ea17",
   "metadata": {
    "papermill": {
     "duration": 0.008724,
     "end_time": "2023-08-02T11:25:12.981467",
     "exception": false,
     "start_time": "2023-08-02T11:25:12.972743",
     "status": "completed"
    },
    "tags": []
   },
   "source": [
    "![/kaggle/input/heart-img/heart1.jpg](https://cdn-prod.medicalnewstoday.com/content/images/articles/322/322237/man-with-chest-pains-and-heart-disease.jpg)\n"
   ]
  },
  {
   "cell_type": "code",
   "execution_count": 1,
   "id": "eda8fb21",
   "metadata": {
    "execution": {
     "iopub.execute_input": "2023-08-02T11:25:13.002532Z",
     "iopub.status.busy": "2023-08-02T11:25:13.002037Z",
     "iopub.status.idle": "2023-08-02T11:25:14.075746Z",
     "shell.execute_reply": "2023-08-02T11:25:14.074817Z"
    },
    "papermill": {
     "duration": 1.086062,
     "end_time": "2023-08-02T11:25:14.077853",
     "exception": false,
     "start_time": "2023-08-02T11:25:12.991791",
     "status": "completed"
    },
    "tags": []
   },
   "outputs": [
    {
     "name": "stdout",
     "output_type": "stream",
     "text": [
      "/kaggle/input/heart-disease-dataset/heart.csv\n",
      "/kaggle/input/heart-img/heart1.jpg\n"
     ]
    }
   ],
   "source": [
    "# This Python 3 environment comes with many helpful analytics libraries installed\n",
    "# It is defined by the kaggle/python Docker image: https://github.com/kaggle/docker-python\n",
    "# For example, here's several helpful packages to load\n",
    "\n",
    "import numpy as np # linear algebra\n",
    "import pandas as pd # data processing, CSV file I/O (e.g. pd.read_csv)\n",
    "import matplotlib.pyplot as plt\n",
    "import seaborn as sns\n",
    "\n",
    "# Input data files are available in the read-only \"../input/\" directory\n",
    "# For example, running this (by clicking run or pressing Shift+Enter) will list all files under the input directory\n",
    "\n",
    "import os\n",
    "for dirname, _, filenames in os.walk('/kaggle/input'):\n",
    "    for filename in filenames:\n",
    "        print(os.path.join(dirname, filename))\n",
    "\n",
    "# You can write up to 20GB to the current directory (/kaggle/working/) that gets preserved as output when you create a version using \"Save & Run All\" \n",
    "# You can also write temporary files to /kaggle/temp/, but they won't be saved outside of the current session"
   ]
  },
  {
   "cell_type": "code",
   "execution_count": 2,
   "id": "afe76bc4",
   "metadata": {
    "execution": {
     "iopub.execute_input": "2023-08-02T11:25:14.098520Z",
     "iopub.status.busy": "2023-08-02T11:25:14.097453Z",
     "iopub.status.idle": "2023-08-02T11:25:14.116619Z",
     "shell.execute_reply": "2023-08-02T11:25:14.115094Z"
    },
    "papermill": {
     "duration": 0.032274,
     "end_time": "2023-08-02T11:25:14.119265",
     "exception": false,
     "start_time": "2023-08-02T11:25:14.086991",
     "status": "completed"
    },
    "tags": []
   },
   "outputs": [],
   "source": [
    "#import our data\n",
    "data= pd.read_csv('../input/heart-disease-dataset/heart.csv', sep =',',encoding ='utf-8')"
   ]
  },
  {
   "cell_type": "code",
   "execution_count": 3,
   "id": "8c31a1d1",
   "metadata": {
    "execution": {
     "iopub.execute_input": "2023-08-02T11:25:14.139043Z",
     "iopub.status.busy": "2023-08-02T11:25:14.138541Z",
     "iopub.status.idle": "2023-08-02T11:25:14.160667Z",
     "shell.execute_reply": "2023-08-02T11:25:14.159862Z"
    },
    "papermill": {
     "duration": 0.034084,
     "end_time": "2023-08-02T11:25:14.162475",
     "exception": false,
     "start_time": "2023-08-02T11:25:14.128391",
     "status": "completed"
    },
    "tags": []
   },
   "outputs": [
    {
     "data": {
      "text/html": [
       "<div>\n",
       "<style scoped>\n",
       "    .dataframe tbody tr th:only-of-type {\n",
       "        vertical-align: middle;\n",
       "    }\n",
       "\n",
       "    .dataframe tbody tr th {\n",
       "        vertical-align: top;\n",
       "    }\n",
       "\n",
       "    .dataframe thead th {\n",
       "        text-align: right;\n",
       "    }\n",
       "</style>\n",
       "<table border=\"1\" class=\"dataframe\">\n",
       "  <thead>\n",
       "    <tr style=\"text-align: right;\">\n",
       "      <th></th>\n",
       "      <th>age</th>\n",
       "      <th>sex</th>\n",
       "      <th>cp</th>\n",
       "      <th>trestbps</th>\n",
       "      <th>chol</th>\n",
       "      <th>fbs</th>\n",
       "      <th>restecg</th>\n",
       "      <th>thalach</th>\n",
       "      <th>exang</th>\n",
       "      <th>oldpeak</th>\n",
       "      <th>slope</th>\n",
       "      <th>ca</th>\n",
       "      <th>thal</th>\n",
       "      <th>target</th>\n",
       "    </tr>\n",
       "  </thead>\n",
       "  <tbody>\n",
       "    <tr>\n",
       "      <th>0</th>\n",
       "      <td>52</td>\n",
       "      <td>1</td>\n",
       "      <td>0</td>\n",
       "      <td>125</td>\n",
       "      <td>212</td>\n",
       "      <td>0</td>\n",
       "      <td>1</td>\n",
       "      <td>168</td>\n",
       "      <td>0</td>\n",
       "      <td>1.0</td>\n",
       "      <td>2</td>\n",
       "      <td>2</td>\n",
       "      <td>3</td>\n",
       "      <td>0</td>\n",
       "    </tr>\n",
       "    <tr>\n",
       "      <th>1</th>\n",
       "      <td>53</td>\n",
       "      <td>1</td>\n",
       "      <td>0</td>\n",
       "      <td>140</td>\n",
       "      <td>203</td>\n",
       "      <td>1</td>\n",
       "      <td>0</td>\n",
       "      <td>155</td>\n",
       "      <td>1</td>\n",
       "      <td>3.1</td>\n",
       "      <td>0</td>\n",
       "      <td>0</td>\n",
       "      <td>3</td>\n",
       "      <td>0</td>\n",
       "    </tr>\n",
       "    <tr>\n",
       "      <th>2</th>\n",
       "      <td>70</td>\n",
       "      <td>1</td>\n",
       "      <td>0</td>\n",
       "      <td>145</td>\n",
       "      <td>174</td>\n",
       "      <td>0</td>\n",
       "      <td>1</td>\n",
       "      <td>125</td>\n",
       "      <td>1</td>\n",
       "      <td>2.6</td>\n",
       "      <td>0</td>\n",
       "      <td>0</td>\n",
       "      <td>3</td>\n",
       "      <td>0</td>\n",
       "    </tr>\n",
       "    <tr>\n",
       "      <th>3</th>\n",
       "      <td>61</td>\n",
       "      <td>1</td>\n",
       "      <td>0</td>\n",
       "      <td>148</td>\n",
       "      <td>203</td>\n",
       "      <td>0</td>\n",
       "      <td>1</td>\n",
       "      <td>161</td>\n",
       "      <td>0</td>\n",
       "      <td>0.0</td>\n",
       "      <td>2</td>\n",
       "      <td>1</td>\n",
       "      <td>3</td>\n",
       "      <td>0</td>\n",
       "    </tr>\n",
       "    <tr>\n",
       "      <th>4</th>\n",
       "      <td>62</td>\n",
       "      <td>0</td>\n",
       "      <td>0</td>\n",
       "      <td>138</td>\n",
       "      <td>294</td>\n",
       "      <td>1</td>\n",
       "      <td>1</td>\n",
       "      <td>106</td>\n",
       "      <td>0</td>\n",
       "      <td>1.9</td>\n",
       "      <td>1</td>\n",
       "      <td>3</td>\n",
       "      <td>2</td>\n",
       "      <td>0</td>\n",
       "    </tr>\n",
       "    <tr>\n",
       "      <th>5</th>\n",
       "      <td>58</td>\n",
       "      <td>0</td>\n",
       "      <td>0</td>\n",
       "      <td>100</td>\n",
       "      <td>248</td>\n",
       "      <td>0</td>\n",
       "      <td>0</td>\n",
       "      <td>122</td>\n",
       "      <td>0</td>\n",
       "      <td>1.0</td>\n",
       "      <td>1</td>\n",
       "      <td>0</td>\n",
       "      <td>2</td>\n",
       "      <td>1</td>\n",
       "    </tr>\n",
       "    <tr>\n",
       "      <th>6</th>\n",
       "      <td>58</td>\n",
       "      <td>1</td>\n",
       "      <td>0</td>\n",
       "      <td>114</td>\n",
       "      <td>318</td>\n",
       "      <td>0</td>\n",
       "      <td>2</td>\n",
       "      <td>140</td>\n",
       "      <td>0</td>\n",
       "      <td>4.4</td>\n",
       "      <td>0</td>\n",
       "      <td>3</td>\n",
       "      <td>1</td>\n",
       "      <td>0</td>\n",
       "    </tr>\n",
       "    <tr>\n",
       "      <th>7</th>\n",
       "      <td>55</td>\n",
       "      <td>1</td>\n",
       "      <td>0</td>\n",
       "      <td>160</td>\n",
       "      <td>289</td>\n",
       "      <td>0</td>\n",
       "      <td>0</td>\n",
       "      <td>145</td>\n",
       "      <td>1</td>\n",
       "      <td>0.8</td>\n",
       "      <td>1</td>\n",
       "      <td>1</td>\n",
       "      <td>3</td>\n",
       "      <td>0</td>\n",
       "    </tr>\n",
       "    <tr>\n",
       "      <th>8</th>\n",
       "      <td>46</td>\n",
       "      <td>1</td>\n",
       "      <td>0</td>\n",
       "      <td>120</td>\n",
       "      <td>249</td>\n",
       "      <td>0</td>\n",
       "      <td>0</td>\n",
       "      <td>144</td>\n",
       "      <td>0</td>\n",
       "      <td>0.8</td>\n",
       "      <td>2</td>\n",
       "      <td>0</td>\n",
       "      <td>3</td>\n",
       "      <td>0</td>\n",
       "    </tr>\n",
       "    <tr>\n",
       "      <th>9</th>\n",
       "      <td>54</td>\n",
       "      <td>1</td>\n",
       "      <td>0</td>\n",
       "      <td>122</td>\n",
       "      <td>286</td>\n",
       "      <td>0</td>\n",
       "      <td>0</td>\n",
       "      <td>116</td>\n",
       "      <td>1</td>\n",
       "      <td>3.2</td>\n",
       "      <td>1</td>\n",
       "      <td>2</td>\n",
       "      <td>2</td>\n",
       "      <td>0</td>\n",
       "    </tr>\n",
       "  </tbody>\n",
       "</table>\n",
       "</div>"
      ],
      "text/plain": [
       "   age  sex  cp  trestbps  chol  fbs  restecg  thalach  exang  oldpeak  slope  \\\n",
       "0   52    1   0       125   212    0        1      168      0      1.0      2   \n",
       "1   53    1   0       140   203    1        0      155      1      3.1      0   \n",
       "2   70    1   0       145   174    0        1      125      1      2.6      0   \n",
       "3   61    1   0       148   203    0        1      161      0      0.0      2   \n",
       "4   62    0   0       138   294    1        1      106      0      1.9      1   \n",
       "5   58    0   0       100   248    0        0      122      0      1.0      1   \n",
       "6   58    1   0       114   318    0        2      140      0      4.4      0   \n",
       "7   55    1   0       160   289    0        0      145      1      0.8      1   \n",
       "8   46    1   0       120   249    0        0      144      0      0.8      2   \n",
       "9   54    1   0       122   286    0        0      116      1      3.2      1   \n",
       "\n",
       "   ca  thal  target  \n",
       "0   2     3       0  \n",
       "1   0     3       0  \n",
       "2   0     3       0  \n",
       "3   1     3       0  \n",
       "4   3     2       0  \n",
       "5   0     2       1  \n",
       "6   3     1       0  \n",
       "7   1     3       0  \n",
       "8   0     3       0  \n",
       "9   2     2       0  "
      ]
     },
     "execution_count": 3,
     "metadata": {},
     "output_type": "execute_result"
    }
   ],
   "source": [
    "#show the frist 10 columns\n",
    "data.head(10)"
   ]
  },
  {
   "cell_type": "code",
   "execution_count": 4,
   "id": "8941f26d",
   "metadata": {
    "execution": {
     "iopub.execute_input": "2023-08-02T11:25:14.183298Z",
     "iopub.status.busy": "2023-08-02T11:25:14.182696Z",
     "iopub.status.idle": "2023-08-02T11:25:14.196096Z",
     "shell.execute_reply": "2023-08-02T11:25:14.194763Z"
    },
    "papermill": {
     "duration": 0.026766,
     "end_time": "2023-08-02T11:25:14.198671",
     "exception": false,
     "start_time": "2023-08-02T11:25:14.171905",
     "status": "completed"
    },
    "tags": []
   },
   "outputs": [
    {
     "data": {
      "text/html": [
       "<div>\n",
       "<style scoped>\n",
       "    .dataframe tbody tr th:only-of-type {\n",
       "        vertical-align: middle;\n",
       "    }\n",
       "\n",
       "    .dataframe tbody tr th {\n",
       "        vertical-align: top;\n",
       "    }\n",
       "\n",
       "    .dataframe thead th {\n",
       "        text-align: right;\n",
       "    }\n",
       "</style>\n",
       "<table border=\"1\" class=\"dataframe\">\n",
       "  <thead>\n",
       "    <tr style=\"text-align: right;\">\n",
       "      <th></th>\n",
       "      <th>age</th>\n",
       "      <th>sex</th>\n",
       "      <th>cp</th>\n",
       "      <th>trestbps</th>\n",
       "      <th>chol</th>\n",
       "      <th>fbs</th>\n",
       "      <th>restecg</th>\n",
       "      <th>thalach</th>\n",
       "      <th>exang</th>\n",
       "      <th>oldpeak</th>\n",
       "      <th>slope</th>\n",
       "      <th>ca</th>\n",
       "      <th>thal</th>\n",
       "      <th>target</th>\n",
       "    </tr>\n",
       "  </thead>\n",
       "  <tbody>\n",
       "    <tr>\n",
       "      <th>1020</th>\n",
       "      <td>59</td>\n",
       "      <td>1</td>\n",
       "      <td>1</td>\n",
       "      <td>140</td>\n",
       "      <td>221</td>\n",
       "      <td>0</td>\n",
       "      <td>1</td>\n",
       "      <td>164</td>\n",
       "      <td>1</td>\n",
       "      <td>0.0</td>\n",
       "      <td>2</td>\n",
       "      <td>0</td>\n",
       "      <td>2</td>\n",
       "      <td>1</td>\n",
       "    </tr>\n",
       "    <tr>\n",
       "      <th>1021</th>\n",
       "      <td>60</td>\n",
       "      <td>1</td>\n",
       "      <td>0</td>\n",
       "      <td>125</td>\n",
       "      <td>258</td>\n",
       "      <td>0</td>\n",
       "      <td>0</td>\n",
       "      <td>141</td>\n",
       "      <td>1</td>\n",
       "      <td>2.8</td>\n",
       "      <td>1</td>\n",
       "      <td>1</td>\n",
       "      <td>3</td>\n",
       "      <td>0</td>\n",
       "    </tr>\n",
       "    <tr>\n",
       "      <th>1022</th>\n",
       "      <td>47</td>\n",
       "      <td>1</td>\n",
       "      <td>0</td>\n",
       "      <td>110</td>\n",
       "      <td>275</td>\n",
       "      <td>0</td>\n",
       "      <td>0</td>\n",
       "      <td>118</td>\n",
       "      <td>1</td>\n",
       "      <td>1.0</td>\n",
       "      <td>1</td>\n",
       "      <td>1</td>\n",
       "      <td>2</td>\n",
       "      <td>0</td>\n",
       "    </tr>\n",
       "    <tr>\n",
       "      <th>1023</th>\n",
       "      <td>50</td>\n",
       "      <td>0</td>\n",
       "      <td>0</td>\n",
       "      <td>110</td>\n",
       "      <td>254</td>\n",
       "      <td>0</td>\n",
       "      <td>0</td>\n",
       "      <td>159</td>\n",
       "      <td>0</td>\n",
       "      <td>0.0</td>\n",
       "      <td>2</td>\n",
       "      <td>0</td>\n",
       "      <td>2</td>\n",
       "      <td>1</td>\n",
       "    </tr>\n",
       "    <tr>\n",
       "      <th>1024</th>\n",
       "      <td>54</td>\n",
       "      <td>1</td>\n",
       "      <td>0</td>\n",
       "      <td>120</td>\n",
       "      <td>188</td>\n",
       "      <td>0</td>\n",
       "      <td>1</td>\n",
       "      <td>113</td>\n",
       "      <td>0</td>\n",
       "      <td>1.4</td>\n",
       "      <td>1</td>\n",
       "      <td>1</td>\n",
       "      <td>3</td>\n",
       "      <td>0</td>\n",
       "    </tr>\n",
       "  </tbody>\n",
       "</table>\n",
       "</div>"
      ],
      "text/plain": [
       "      age  sex  cp  trestbps  chol  fbs  restecg  thalach  exang  oldpeak  \\\n",
       "1020   59    1   1       140   221    0        1      164      1      0.0   \n",
       "1021   60    1   0       125   258    0        0      141      1      2.8   \n",
       "1022   47    1   0       110   275    0        0      118      1      1.0   \n",
       "1023   50    0   0       110   254    0        0      159      0      0.0   \n",
       "1024   54    1   0       120   188    0        1      113      0      1.4   \n",
       "\n",
       "      slope  ca  thal  target  \n",
       "1020      2   0     2       1  \n",
       "1021      1   1     3       0  \n",
       "1022      1   1     2       0  \n",
       "1023      2   0     2       1  \n",
       "1024      1   1     3       0  "
      ]
     },
     "execution_count": 4,
     "metadata": {},
     "output_type": "execute_result"
    }
   ],
   "source": [
    "#show the last 5 columns\n",
    "data.tail(5)"
   ]
  },
  {
   "cell_type": "code",
   "execution_count": 5,
   "id": "fc6ba0ee",
   "metadata": {
    "execution": {
     "iopub.execute_input": "2023-08-02T11:25:14.219642Z",
     "iopub.status.busy": "2023-08-02T11:25:14.219271Z",
     "iopub.status.idle": "2023-08-02T11:25:14.226761Z",
     "shell.execute_reply": "2023-08-02T11:25:14.225663Z"
    },
    "papermill": {
     "duration": 0.020723,
     "end_time": "2023-08-02T11:25:14.229190",
     "exception": false,
     "start_time": "2023-08-02T11:25:14.208467",
     "status": "completed"
    },
    "tags": []
   },
   "outputs": [
    {
     "data": {
      "text/plain": [
       "Index(['age', 'sex', 'cp', 'trestbps', 'chol', 'fbs', 'restecg', 'thalach',\n",
       "       'exang', 'oldpeak', 'slope', 'ca', 'thal', 'target'],\n",
       "      dtype='object')"
      ]
     },
     "execution_count": 5,
     "metadata": {},
     "output_type": "execute_result"
    }
   ],
   "source": [
    "#name of culomns\n",
    "data.columns"
   ]
  },
  {
   "cell_type": "code",
   "execution_count": 6,
   "id": "66273930",
   "metadata": {
    "execution": {
     "iopub.execute_input": "2023-08-02T11:25:14.250661Z",
     "iopub.status.busy": "2023-08-02T11:25:14.250305Z",
     "iopub.status.idle": "2023-08-02T11:25:14.260884Z",
     "shell.execute_reply": "2023-08-02T11:25:14.258918Z"
    },
    "papermill": {
     "duration": 0.023723,
     "end_time": "2023-08-02T11:25:14.262997",
     "exception": false,
     "start_time": "2023-08-02T11:25:14.239274",
     "status": "completed"
    },
    "tags": []
   },
   "outputs": [],
   "source": [
    "#rename columns in a pandas DataFrame\n",
    "data.rename(columns={'cp':'chest pain','trestbps':'blood pressure','chol':'cholestoral','fbs':'sugar test','restecg':'elect_result','thalach':'max heart rate','exang':'exercise angina','ca':'num of vessels'},inplace=True)"
   ]
  },
  {
   "cell_type": "code",
   "execution_count": 7,
   "id": "bf3b5fd9",
   "metadata": {
    "execution": {
     "iopub.execute_input": "2023-08-02T11:25:14.284188Z",
     "iopub.status.busy": "2023-08-02T11:25:14.283803Z",
     "iopub.status.idle": "2023-08-02T11:25:14.290996Z",
     "shell.execute_reply": "2023-08-02T11:25:14.289695Z"
    },
    "papermill": {
     "duration": 0.020117,
     "end_time": "2023-08-02T11:25:14.293032",
     "exception": false,
     "start_time": "2023-08-02T11:25:14.272915",
     "status": "completed"
    },
    "tags": []
   },
   "outputs": [
    {
     "data": {
      "text/plain": [
       "(1025, 14)"
      ]
     },
     "execution_count": 7,
     "metadata": {},
     "output_type": "execute_result"
    }
   ],
   "source": [
    "#how many columns and rows\n",
    "data.shape"
   ]
  },
  {
   "cell_type": "code",
   "execution_count": 8,
   "id": "e54bbdf8",
   "metadata": {
    "execution": {
     "iopub.execute_input": "2023-08-02T11:25:14.314190Z",
     "iopub.status.busy": "2023-08-02T11:25:14.313621Z",
     "iopub.status.idle": "2023-08-02T11:25:14.334445Z",
     "shell.execute_reply": "2023-08-02T11:25:14.332980Z"
    },
    "papermill": {
     "duration": 0.033759,
     "end_time": "2023-08-02T11:25:14.336520",
     "exception": false,
     "start_time": "2023-08-02T11:25:14.302761",
     "status": "completed"
    },
    "tags": []
   },
   "outputs": [
    {
     "name": "stdout",
     "output_type": "stream",
     "text": [
      "<class 'pandas.core.frame.DataFrame'>\n",
      "RangeIndex: 1025 entries, 0 to 1024\n",
      "Data columns (total 14 columns):\n",
      " #   Column           Non-Null Count  Dtype  \n",
      "---  ------           --------------  -----  \n",
      " 0   age              1025 non-null   int64  \n",
      " 1   sex              1025 non-null   int64  \n",
      " 2   chest pain       1025 non-null   int64  \n",
      " 3   blood pressure   1025 non-null   int64  \n",
      " 4   cholestoral      1025 non-null   int64  \n",
      " 5   sugar test       1025 non-null   int64  \n",
      " 6   elect_result     1025 non-null   int64  \n",
      " 7   max heart rate   1025 non-null   int64  \n",
      " 8   exercise angina  1025 non-null   int64  \n",
      " 9   oldpeak          1025 non-null   float64\n",
      " 10  slope            1025 non-null   int64  \n",
      " 11  num of vessels   1025 non-null   int64  \n",
      " 12  thal             1025 non-null   int64  \n",
      " 13  target           1025 non-null   int64  \n",
      "dtypes: float64(1), int64(13)\n",
      "memory usage: 112.2 KB\n"
     ]
    }
   ],
   "source": [
    "#Get Information About Our Dataset \n",
    "data.info()"
   ]
  },
  {
   "cell_type": "code",
   "execution_count": 9,
   "id": "738e149c",
   "metadata": {
    "execution": {
     "iopub.execute_input": "2023-08-02T11:25:14.358026Z",
     "iopub.status.busy": "2023-08-02T11:25:14.357643Z",
     "iopub.status.idle": "2023-08-02T11:25:14.366688Z",
     "shell.execute_reply": "2023-08-02T11:25:14.365703Z"
    },
    "papermill": {
     "duration": 0.022707,
     "end_time": "2023-08-02T11:25:14.369112",
     "exception": false,
     "start_time": "2023-08-02T11:25:14.346405",
     "status": "completed"
    },
    "tags": []
   },
   "outputs": [
    {
     "data": {
      "text/plain": [
       "age                0\n",
       "sex                0\n",
       "chest pain         0\n",
       "blood pressure     0\n",
       "cholestoral        0\n",
       "sugar test         0\n",
       "elect_result       0\n",
       "max heart rate     0\n",
       "exercise angina    0\n",
       "oldpeak            0\n",
       "slope              0\n",
       "num of vessels     0\n",
       "thal               0\n",
       "target             0\n",
       "dtype: int64"
      ]
     },
     "execution_count": 9,
     "metadata": {},
     "output_type": "execute_result"
    }
   ],
   "source": [
    "#Check Null Values In The Dataset\n",
    "data.isnull().sum()"
   ]
  },
  {
   "cell_type": "code",
   "execution_count": 10,
   "id": "f1778203",
   "metadata": {
    "execution": {
     "iopub.execute_input": "2023-08-02T11:25:14.391468Z",
     "iopub.status.busy": "2023-08-02T11:25:14.391137Z",
     "iopub.status.idle": "2023-08-02T11:25:14.402245Z",
     "shell.execute_reply": "2023-08-02T11:25:14.400832Z"
    },
    "papermill": {
     "duration": 0.025052,
     "end_time": "2023-08-02T11:25:14.404725",
     "exception": false,
     "start_time": "2023-08-02T11:25:14.379673",
     "status": "completed"
    },
    "tags": []
   },
   "outputs": [
    {
     "name": "stdout",
     "output_type": "stream",
     "text": [
      "Any duplicate Value? True\n"
     ]
    }
   ],
   "source": [
    "# Check For Duplicate Data\n",
    "dup=data.duplicated().any()\n",
    "#we ask if there are any Duplicate Data \n",
    "print(\"Any duplicate Value?\",dup)\n"
   ]
  },
  {
   "cell_type": "code",
   "execution_count": 11,
   "id": "4dcb6b5a",
   "metadata": {
    "execution": {
     "iopub.execute_input": "2023-08-02T11:25:14.427016Z",
     "iopub.status.busy": "2023-08-02T11:25:14.426679Z",
     "iopub.status.idle": "2023-08-02T11:25:14.434791Z",
     "shell.execute_reply": "2023-08-02T11:25:14.433285Z"
    },
    "papermill": {
     "duration": 0.022156,
     "end_time": "2023-08-02T11:25:14.437161",
     "exception": false,
     "start_time": "2023-08-02T11:25:14.415005",
     "status": "completed"
    },
    "tags": []
   },
   "outputs": [],
   "source": [
    "#the answer was True so we will drop the Duplicate Data \n",
    "data=data.drop_duplicates()"
   ]
  },
  {
   "cell_type": "code",
   "execution_count": 12,
   "id": "621f2db9",
   "metadata": {
    "execution": {
     "iopub.execute_input": "2023-08-02T11:25:14.458600Z",
     "iopub.status.busy": "2023-08-02T11:25:14.458250Z",
     "iopub.status.idle": "2023-08-02T11:25:14.463325Z",
     "shell.execute_reply": "2023-08-02T11:25:14.462720Z"
    },
    "papermill": {
     "duration": 0.017809,
     "end_time": "2023-08-02T11:25:14.465088",
     "exception": false,
     "start_time": "2023-08-02T11:25:14.447279",
     "status": "completed"
    },
    "tags": []
   },
   "outputs": [
    {
     "data": {
      "text/plain": [
       "(302, 14)"
      ]
     },
     "execution_count": 12,
     "metadata": {},
     "output_type": "execute_result"
    }
   ],
   "source": [
    "#check our data set after drop the duplicate data \n",
    "data.shape"
   ]
  },
  {
   "cell_type": "code",
   "execution_count": 13,
   "id": "12905ec6",
   "metadata": {
    "execution": {
     "iopub.execute_input": "2023-08-02T11:25:14.487557Z",
     "iopub.status.busy": "2023-08-02T11:25:14.487214Z",
     "iopub.status.idle": "2023-08-02T11:25:14.533305Z",
     "shell.execute_reply": "2023-08-02T11:25:14.532467Z"
    },
    "papermill": {
     "duration": 0.060233,
     "end_time": "2023-08-02T11:25:14.535745",
     "exception": false,
     "start_time": "2023-08-02T11:25:14.475512",
     "status": "completed"
    },
    "tags": []
   },
   "outputs": [
    {
     "data": {
      "text/html": [
       "<div>\n",
       "<style scoped>\n",
       "    .dataframe tbody tr th:only-of-type {\n",
       "        vertical-align: middle;\n",
       "    }\n",
       "\n",
       "    .dataframe tbody tr th {\n",
       "        vertical-align: top;\n",
       "    }\n",
       "\n",
       "    .dataframe thead th {\n",
       "        text-align: right;\n",
       "    }\n",
       "</style>\n",
       "<table border=\"1\" class=\"dataframe\">\n",
       "  <thead>\n",
       "    <tr style=\"text-align: right;\">\n",
       "      <th></th>\n",
       "      <th>age</th>\n",
       "      <th>sex</th>\n",
       "      <th>chest pain</th>\n",
       "      <th>blood pressure</th>\n",
       "      <th>cholestoral</th>\n",
       "      <th>sugar test</th>\n",
       "      <th>elect_result</th>\n",
       "      <th>max heart rate</th>\n",
       "      <th>exercise angina</th>\n",
       "      <th>oldpeak</th>\n",
       "      <th>slope</th>\n",
       "      <th>num of vessels</th>\n",
       "      <th>thal</th>\n",
       "      <th>target</th>\n",
       "    </tr>\n",
       "  </thead>\n",
       "  <tbody>\n",
       "    <tr>\n",
       "      <th>count</th>\n",
       "      <td>302.00000</td>\n",
       "      <td>302.000000</td>\n",
       "      <td>302.000000</td>\n",
       "      <td>302.000000</td>\n",
       "      <td>302.000000</td>\n",
       "      <td>302.000000</td>\n",
       "      <td>302.000000</td>\n",
       "      <td>302.000000</td>\n",
       "      <td>302.000000</td>\n",
       "      <td>302.000000</td>\n",
       "      <td>302.000000</td>\n",
       "      <td>302.000000</td>\n",
       "      <td>302.000000</td>\n",
       "      <td>302.000000</td>\n",
       "    </tr>\n",
       "    <tr>\n",
       "      <th>mean</th>\n",
       "      <td>54.42053</td>\n",
       "      <td>0.682119</td>\n",
       "      <td>0.963576</td>\n",
       "      <td>131.602649</td>\n",
       "      <td>246.500000</td>\n",
       "      <td>0.149007</td>\n",
       "      <td>0.526490</td>\n",
       "      <td>149.569536</td>\n",
       "      <td>0.327815</td>\n",
       "      <td>1.043046</td>\n",
       "      <td>1.397351</td>\n",
       "      <td>0.718543</td>\n",
       "      <td>2.314570</td>\n",
       "      <td>0.543046</td>\n",
       "    </tr>\n",
       "    <tr>\n",
       "      <th>std</th>\n",
       "      <td>9.04797</td>\n",
       "      <td>0.466426</td>\n",
       "      <td>1.032044</td>\n",
       "      <td>17.563394</td>\n",
       "      <td>51.753489</td>\n",
       "      <td>0.356686</td>\n",
       "      <td>0.526027</td>\n",
       "      <td>22.903527</td>\n",
       "      <td>0.470196</td>\n",
       "      <td>1.161452</td>\n",
       "      <td>0.616274</td>\n",
       "      <td>1.006748</td>\n",
       "      <td>0.613026</td>\n",
       "      <td>0.498970</td>\n",
       "    </tr>\n",
       "    <tr>\n",
       "      <th>min</th>\n",
       "      <td>29.00000</td>\n",
       "      <td>0.000000</td>\n",
       "      <td>0.000000</td>\n",
       "      <td>94.000000</td>\n",
       "      <td>126.000000</td>\n",
       "      <td>0.000000</td>\n",
       "      <td>0.000000</td>\n",
       "      <td>71.000000</td>\n",
       "      <td>0.000000</td>\n",
       "      <td>0.000000</td>\n",
       "      <td>0.000000</td>\n",
       "      <td>0.000000</td>\n",
       "      <td>0.000000</td>\n",
       "      <td>0.000000</td>\n",
       "    </tr>\n",
       "    <tr>\n",
       "      <th>25%</th>\n",
       "      <td>48.00000</td>\n",
       "      <td>0.000000</td>\n",
       "      <td>0.000000</td>\n",
       "      <td>120.000000</td>\n",
       "      <td>211.000000</td>\n",
       "      <td>0.000000</td>\n",
       "      <td>0.000000</td>\n",
       "      <td>133.250000</td>\n",
       "      <td>0.000000</td>\n",
       "      <td>0.000000</td>\n",
       "      <td>1.000000</td>\n",
       "      <td>0.000000</td>\n",
       "      <td>2.000000</td>\n",
       "      <td>0.000000</td>\n",
       "    </tr>\n",
       "    <tr>\n",
       "      <th>50%</th>\n",
       "      <td>55.50000</td>\n",
       "      <td>1.000000</td>\n",
       "      <td>1.000000</td>\n",
       "      <td>130.000000</td>\n",
       "      <td>240.500000</td>\n",
       "      <td>0.000000</td>\n",
       "      <td>1.000000</td>\n",
       "      <td>152.500000</td>\n",
       "      <td>0.000000</td>\n",
       "      <td>0.800000</td>\n",
       "      <td>1.000000</td>\n",
       "      <td>0.000000</td>\n",
       "      <td>2.000000</td>\n",
       "      <td>1.000000</td>\n",
       "    </tr>\n",
       "    <tr>\n",
       "      <th>75%</th>\n",
       "      <td>61.00000</td>\n",
       "      <td>1.000000</td>\n",
       "      <td>2.000000</td>\n",
       "      <td>140.000000</td>\n",
       "      <td>274.750000</td>\n",
       "      <td>0.000000</td>\n",
       "      <td>1.000000</td>\n",
       "      <td>166.000000</td>\n",
       "      <td>1.000000</td>\n",
       "      <td>1.600000</td>\n",
       "      <td>2.000000</td>\n",
       "      <td>1.000000</td>\n",
       "      <td>3.000000</td>\n",
       "      <td>1.000000</td>\n",
       "    </tr>\n",
       "    <tr>\n",
       "      <th>max</th>\n",
       "      <td>77.00000</td>\n",
       "      <td>1.000000</td>\n",
       "      <td>3.000000</td>\n",
       "      <td>200.000000</td>\n",
       "      <td>564.000000</td>\n",
       "      <td>1.000000</td>\n",
       "      <td>2.000000</td>\n",
       "      <td>202.000000</td>\n",
       "      <td>1.000000</td>\n",
       "      <td>6.200000</td>\n",
       "      <td>2.000000</td>\n",
       "      <td>4.000000</td>\n",
       "      <td>3.000000</td>\n",
       "      <td>1.000000</td>\n",
       "    </tr>\n",
       "  </tbody>\n",
       "</table>\n",
       "</div>"
      ],
      "text/plain": [
       "             age         sex  chest pain  blood pressure  cholestoral  \\\n",
       "count  302.00000  302.000000  302.000000      302.000000   302.000000   \n",
       "mean    54.42053    0.682119    0.963576      131.602649   246.500000   \n",
       "std      9.04797    0.466426    1.032044       17.563394    51.753489   \n",
       "min     29.00000    0.000000    0.000000       94.000000   126.000000   \n",
       "25%     48.00000    0.000000    0.000000      120.000000   211.000000   \n",
       "50%     55.50000    1.000000    1.000000      130.000000   240.500000   \n",
       "75%     61.00000    1.000000    2.000000      140.000000   274.750000   \n",
       "max     77.00000    1.000000    3.000000      200.000000   564.000000   \n",
       "\n",
       "       sugar test  elect_result  max heart rate  exercise angina     oldpeak  \\\n",
       "count  302.000000    302.000000      302.000000       302.000000  302.000000   \n",
       "mean     0.149007      0.526490      149.569536         0.327815    1.043046   \n",
       "std      0.356686      0.526027       22.903527         0.470196    1.161452   \n",
       "min      0.000000      0.000000       71.000000         0.000000    0.000000   \n",
       "25%      0.000000      0.000000      133.250000         0.000000    0.000000   \n",
       "50%      0.000000      1.000000      152.500000         0.000000    0.800000   \n",
       "75%      0.000000      1.000000      166.000000         1.000000    1.600000   \n",
       "max      1.000000      2.000000      202.000000         1.000000    6.200000   \n",
       "\n",
       "            slope  num of vessels        thal      target  \n",
       "count  302.000000      302.000000  302.000000  302.000000  \n",
       "mean     1.397351        0.718543    2.314570    0.543046  \n",
       "std      0.616274        1.006748    0.613026    0.498970  \n",
       "min      0.000000        0.000000    0.000000    0.000000  \n",
       "25%      1.000000        0.000000    2.000000    0.000000  \n",
       "50%      1.000000        0.000000    2.000000    1.000000  \n",
       "75%      2.000000        1.000000    3.000000    1.000000  \n",
       "max      2.000000        4.000000    3.000000    1.000000  "
      ]
     },
     "execution_count": 13,
     "metadata": {},
     "output_type": "execute_result"
    }
   ],
   "source": [
    "#Get Overall Statistics About The Dataset\n",
    "data.describe()"
   ]
  },
  {
   "cell_type": "code",
   "execution_count": 14,
   "id": "e309f6fd",
   "metadata": {
    "execution": {
     "iopub.execute_input": "2023-08-02T11:25:14.558606Z",
     "iopub.status.busy": "2023-08-02T11:25:14.558219Z",
     "iopub.status.idle": "2023-08-02T11:25:15.540891Z",
     "shell.execute_reply": "2023-08-02T11:25:15.540007Z"
    },
    "papermill": {
     "duration": 0.996486,
     "end_time": "2023-08-02T11:25:15.542865",
     "exception": false,
     "start_time": "2023-08-02T11:25:14.546379",
     "status": "completed"
    },
    "tags": []
   },
   "outputs": [
    {
     "data": {
      "text/plain": [
       "<AxesSubplot:>"
      ]
     },
     "execution_count": 14,
     "metadata": {},
     "output_type": "execute_result"
    },
    {
     "data": {
      "image/png": "[encoded data removed]",
      "text/plain": [
       "<Figure size 1224x576 with 2 Axes>"
      ]
     },
     "metadata": {
      "needs_background": "light"
     },
     "output_type": "display_data"
    }
   ],
   "source": [
    "#find Correlation Matrix and drow it\n",
    "plt.figure(figsize=(17,8))\n",
    "sns.heatmap(data.corr(),annot=True) "
   ]
  },
  {
   "cell_type": "code",
   "execution_count": 15,
   "id": "b85a6333",
   "metadata": {
    "execution": {
     "iopub.execute_input": "2023-08-02T11:25:15.568877Z",
     "iopub.status.busy": "2023-08-02T11:25:15.568313Z",
     "iopub.status.idle": "2023-08-02T11:25:15.574195Z",
     "shell.execute_reply": "2023-08-02T11:25:15.573269Z"
    },
    "papermill": {
     "duration": 0.021067,
     "end_time": "2023-08-02T11:25:15.575998",
     "exception": false,
     "start_time": "2023-08-02T11:25:15.554931",
     "status": "completed"
    },
    "tags": []
   },
   "outputs": [
    {
     "data": {
      "text/plain": [
       "Index(['age', 'sex', 'chest pain', 'blood pressure', 'cholestoral',\n",
       "       'sugar test', 'elect_result', 'max heart rate', 'exercise angina',\n",
       "       'oldpeak', 'slope', 'num of vessels', 'thal', 'target'],\n",
       "      dtype='object')"
      ]
     },
     "execution_count": 15,
     "metadata": {},
     "output_type": "execute_result"
    }
   ],
   "source": [
    "data.columns"
   ]
  },
  {
   "cell_type": "code",
   "execution_count": 16,
   "id": "19138c51",
   "metadata": {
    "execution": {
     "iopub.execute_input": "2023-08-02T11:25:15.602948Z",
     "iopub.status.busy": "2023-08-02T11:25:15.602544Z",
     "iopub.status.idle": "2023-08-02T11:25:15.620033Z",
     "shell.execute_reply": "2023-08-02T11:25:15.619079Z"
    },
    "papermill": {
     "duration": 0.032501,
     "end_time": "2023-08-02T11:25:15.621932",
     "exception": false,
     "start_time": "2023-08-02T11:25:15.589431",
     "status": "completed"
    },
    "tags": []
   },
   "outputs": [
    {
     "data": {
      "text/html": [
       "<div>\n",
       "<style scoped>\n",
       "    .dataframe tbody tr th:only-of-type {\n",
       "        vertical-align: middle;\n",
       "    }\n",
       "\n",
       "    .dataframe tbody tr th {\n",
       "        vertical-align: top;\n",
       "    }\n",
       "\n",
       "    .dataframe thead th {\n",
       "        text-align: right;\n",
       "    }\n",
       "</style>\n",
       "<table border=\"1\" class=\"dataframe\">\n",
       "  <thead>\n",
       "    <tr style=\"text-align: right;\">\n",
       "      <th></th>\n",
       "      <th>age</th>\n",
       "      <th>sex</th>\n",
       "      <th>chest pain</th>\n",
       "      <th>blood pressure</th>\n",
       "      <th>cholestoral</th>\n",
       "      <th>sugar test</th>\n",
       "      <th>elect_result</th>\n",
       "      <th>max heart rate</th>\n",
       "      <th>exercise angina</th>\n",
       "      <th>oldpeak</th>\n",
       "      <th>slope</th>\n",
       "      <th>num of vessels</th>\n",
       "      <th>thal</th>\n",
       "      <th>target</th>\n",
       "    </tr>\n",
       "  </thead>\n",
       "  <tbody>\n",
       "    <tr>\n",
       "      <th>0</th>\n",
       "      <td>52</td>\n",
       "      <td>1</td>\n",
       "      <td>0</td>\n",
       "      <td>125</td>\n",
       "      <td>212</td>\n",
       "      <td>0</td>\n",
       "      <td>1</td>\n",
       "      <td>168</td>\n",
       "      <td>0</td>\n",
       "      <td>1.0</td>\n",
       "      <td>2</td>\n",
       "      <td>2</td>\n",
       "      <td>3</td>\n",
       "      <td>0</td>\n",
       "    </tr>\n",
       "    <tr>\n",
       "      <th>1</th>\n",
       "      <td>53</td>\n",
       "      <td>1</td>\n",
       "      <td>0</td>\n",
       "      <td>140</td>\n",
       "      <td>203</td>\n",
       "      <td>1</td>\n",
       "      <td>0</td>\n",
       "      <td>155</td>\n",
       "      <td>1</td>\n",
       "      <td>3.1</td>\n",
       "      <td>0</td>\n",
       "      <td>0</td>\n",
       "      <td>3</td>\n",
       "      <td>0</td>\n",
       "    </tr>\n",
       "    <tr>\n",
       "      <th>2</th>\n",
       "      <td>70</td>\n",
       "      <td>1</td>\n",
       "      <td>0</td>\n",
       "      <td>145</td>\n",
       "      <td>174</td>\n",
       "      <td>0</td>\n",
       "      <td>1</td>\n",
       "      <td>125</td>\n",
       "      <td>1</td>\n",
       "      <td>2.6</td>\n",
       "      <td>0</td>\n",
       "      <td>0</td>\n",
       "      <td>3</td>\n",
       "      <td>0</td>\n",
       "    </tr>\n",
       "    <tr>\n",
       "      <th>3</th>\n",
       "      <td>61</td>\n",
       "      <td>1</td>\n",
       "      <td>0</td>\n",
       "      <td>148</td>\n",
       "      <td>203</td>\n",
       "      <td>0</td>\n",
       "      <td>1</td>\n",
       "      <td>161</td>\n",
       "      <td>0</td>\n",
       "      <td>0.0</td>\n",
       "      <td>2</td>\n",
       "      <td>1</td>\n",
       "      <td>3</td>\n",
       "      <td>0</td>\n",
       "    </tr>\n",
       "    <tr>\n",
       "      <th>4</th>\n",
       "      <td>62</td>\n",
       "      <td>0</td>\n",
       "      <td>0</td>\n",
       "      <td>138</td>\n",
       "      <td>294</td>\n",
       "      <td>1</td>\n",
       "      <td>1</td>\n",
       "      <td>106</td>\n",
       "      <td>0</td>\n",
       "      <td>1.9</td>\n",
       "      <td>1</td>\n",
       "      <td>3</td>\n",
       "      <td>2</td>\n",
       "      <td>0</td>\n",
       "    </tr>\n",
       "    <tr>\n",
       "      <th>...</th>\n",
       "      <td>...</td>\n",
       "      <td>...</td>\n",
       "      <td>...</td>\n",
       "      <td>...</td>\n",
       "      <td>...</td>\n",
       "      <td>...</td>\n",
       "      <td>...</td>\n",
       "      <td>...</td>\n",
       "      <td>...</td>\n",
       "      <td>...</td>\n",
       "      <td>...</td>\n",
       "      <td>...</td>\n",
       "      <td>...</td>\n",
       "      <td>...</td>\n",
       "    </tr>\n",
       "    <tr>\n",
       "      <th>723</th>\n",
       "      <td>68</td>\n",
       "      <td>0</td>\n",
       "      <td>2</td>\n",
       "      <td>120</td>\n",
       "      <td>211</td>\n",
       "      <td>0</td>\n",
       "      <td>0</td>\n",
       "      <td>115</td>\n",
       "      <td>0</td>\n",
       "      <td>1.5</td>\n",
       "      <td>1</td>\n",
       "      <td>0</td>\n",
       "      <td>2</td>\n",
       "      <td>1</td>\n",
       "    </tr>\n",
       "    <tr>\n",
       "      <th>733</th>\n",
       "      <td>44</td>\n",
       "      <td>0</td>\n",
       "      <td>2</td>\n",
       "      <td>108</td>\n",
       "      <td>141</td>\n",
       "      <td>0</td>\n",
       "      <td>1</td>\n",
       "      <td>175</td>\n",
       "      <td>0</td>\n",
       "      <td>0.6</td>\n",
       "      <td>1</td>\n",
       "      <td>0</td>\n",
       "      <td>2</td>\n",
       "      <td>1</td>\n",
       "    </tr>\n",
       "    <tr>\n",
       "      <th>739</th>\n",
       "      <td>52</td>\n",
       "      <td>1</td>\n",
       "      <td>0</td>\n",
       "      <td>128</td>\n",
       "      <td>255</td>\n",
       "      <td>0</td>\n",
       "      <td>1</td>\n",
       "      <td>161</td>\n",
       "      <td>1</td>\n",
       "      <td>0.0</td>\n",
       "      <td>2</td>\n",
       "      <td>1</td>\n",
       "      <td>3</td>\n",
       "      <td>0</td>\n",
       "    </tr>\n",
       "    <tr>\n",
       "      <th>843</th>\n",
       "      <td>59</td>\n",
       "      <td>1</td>\n",
       "      <td>3</td>\n",
       "      <td>160</td>\n",
       "      <td>273</td>\n",
       "      <td>0</td>\n",
       "      <td>0</td>\n",
       "      <td>125</td>\n",
       "      <td>0</td>\n",
       "      <td>0.0</td>\n",
       "      <td>2</td>\n",
       "      <td>0</td>\n",
       "      <td>2</td>\n",
       "      <td>0</td>\n",
       "    </tr>\n",
       "    <tr>\n",
       "      <th>878</th>\n",
       "      <td>54</td>\n",
       "      <td>1</td>\n",
       "      <td>0</td>\n",
       "      <td>120</td>\n",
       "      <td>188</td>\n",
       "      <td>0</td>\n",
       "      <td>1</td>\n",
       "      <td>113</td>\n",
       "      <td>0</td>\n",
       "      <td>1.4</td>\n",
       "      <td>1</td>\n",
       "      <td>1</td>\n",
       "      <td>3</td>\n",
       "      <td>0</td>\n",
       "    </tr>\n",
       "  </tbody>\n",
       "</table>\n",
       "<p>302 rows × 14 columns</p>\n",
       "</div>"
      ],
      "text/plain": [
       "     age  sex  chest pain  blood pressure  cholestoral  sugar test  \\\n",
       "0     52    1           0             125          212           0   \n",
       "1     53    1           0             140          203           1   \n",
       "2     70    1           0             145          174           0   \n",
       "3     61    1           0             148          203           0   \n",
       "4     62    0           0             138          294           1   \n",
       "..   ...  ...         ...             ...          ...         ...   \n",
       "723   68    0           2             120          211           0   \n",
       "733   44    0           2             108          141           0   \n",
       "739   52    1           0             128          255           0   \n",
       "843   59    1           3             160          273           0   \n",
       "878   54    1           0             120          188           0   \n",
       "\n",
       "     elect_result  max heart rate  exercise angina  oldpeak  slope  \\\n",
       "0               1             168                0      1.0      2   \n",
       "1               0             155                1      3.1      0   \n",
       "2               1             125                1      2.6      0   \n",
       "3               1             161                0      0.0      2   \n",
       "4               1             106                0      1.9      1   \n",
       "..            ...             ...              ...      ...    ...   \n",
       "723             0             115                0      1.5      1   \n",
       "733             1             175                0      0.6      1   \n",
       "739             1             161                1      0.0      2   \n",
       "843             0             125                0      0.0      2   \n",
       "878             1             113                0      1.4      1   \n",
       "\n",
       "     num of vessels  thal  target  \n",
       "0                 2     3       0  \n",
       "1                 0     3       0  \n",
       "2                 0     3       0  \n",
       "3                 1     3       0  \n",
       "4                 3     2       0  \n",
       "..              ...   ...     ...  \n",
       "723               0     2       1  \n",
       "733               0     2       1  \n",
       "739               1     3       0  \n",
       "843               0     2       0  \n",
       "878               1     3       0  \n",
       "\n",
       "[302 rows x 14 columns]"
      ]
     },
     "execution_count": 16,
     "metadata": {},
     "output_type": "execute_result"
    }
   ],
   "source": [
    "data"
   ]
  },
  {
   "cell_type": "code",
   "execution_count": 17,
   "id": "e27f5dbd",
   "metadata": {
    "execution": {
     "iopub.execute_input": "2023-08-02T11:25:15.648790Z",
     "iopub.status.busy": "2023-08-02T11:25:15.648337Z",
     "iopub.status.idle": "2023-08-02T11:25:15.767348Z",
     "shell.execute_reply": "2023-08-02T11:25:15.766464Z"
    },
    "papermill": {
     "duration": 0.134571,
     "end_time": "2023-08-02T11:25:15.769302",
     "exception": false,
     "start_time": "2023-08-02T11:25:15.634731",
     "status": "completed"
    },
    "tags": []
   },
   "outputs": [
    {
     "data": {
      "image/png": "[encoded data removed]",
      "text/plain": [
       "<Figure size 432x288 with 1 Axes>"
      ]
     },
     "metadata": {
      "needs_background": "light"
     },
     "output_type": "display_data"
    }
   ],
   "source": [
    "# How Many People Have Heart Disease, And How Many Don't Have Heart Disease\n",
    "sns.countplot(x='target',data=data)\n",
    "plt.xticks([0,1],['Not Sick','Sick'])\n",
    "plt.title(\"How Many People Have Heart Disease\")\n",
    "plt.show()"
   ]
  },
  {
   "cell_type": "code",
   "execution_count": 18,
   "id": "dc1e7d7b",
   "metadata": {
    "execution": {
     "iopub.execute_input": "2023-08-02T11:25:15.802056Z",
     "iopub.status.busy": "2023-08-02T11:25:15.801498Z",
     "iopub.status.idle": "2023-08-02T11:25:15.807708Z",
     "shell.execute_reply": "2023-08-02T11:25:15.807055Z"
    },
    "papermill": {
     "duration": 0.023821,
     "end_time": "2023-08-02T11:25:15.809966",
     "exception": false,
     "start_time": "2023-08-02T11:25:15.786145",
     "status": "completed"
    },
    "tags": []
   },
   "outputs": [
    {
     "data": {
      "text/plain": [
       "1    164\n",
       "0    138\n",
       "Name: target, dtype: int64"
      ]
     },
     "execution_count": 18,
     "metadata": {},
     "output_type": "execute_result"
    }
   ],
   "source": [
    "\n",
    "data.target.value_counts()"
   ]
  },
  {
   "cell_type": "code",
   "execution_count": 19,
   "id": "29e8579d",
   "metadata": {
    "execution": {
     "iopub.execute_input": "2023-08-02T11:25:15.837019Z",
     "iopub.status.busy": "2023-08-02T11:25:15.836371Z",
     "iopub.status.idle": "2023-08-02T11:25:15.843057Z",
     "shell.execute_reply": "2023-08-02T11:25:15.842118Z"
    },
    "papermill": {
     "duration": 0.023037,
     "end_time": "2023-08-02T11:25:15.845859",
     "exception": false,
     "start_time": "2023-08-02T11:25:15.822822",
     "status": "completed"
    },
    "tags": []
   },
   "outputs": [
    {
     "data": {
      "text/plain": [
       "1    206\n",
       "0     96\n",
       "Name: sex, dtype: int64"
      ]
     },
     "execution_count": 19,
     "metadata": {},
     "output_type": "execute_result"
    }
   ],
   "source": [
    "#Find Count of  Male & Female in this Datase\n",
    "data.sex.value_counts()"
   ]
  },
  {
   "cell_type": "code",
   "execution_count": 20,
   "id": "b7f1742e",
   "metadata": {
    "execution": {
     "iopub.execute_input": "2023-08-02T11:25:15.873409Z",
     "iopub.status.busy": "2023-08-02T11:25:15.872725Z",
     "iopub.status.idle": "2023-08-02T11:25:15.995553Z",
     "shell.execute_reply": "2023-08-02T11:25:15.994758Z"
    },
    "papermill": {
     "duration": 0.138857,
     "end_time": "2023-08-02T11:25:15.997714",
     "exception": false,
     "start_time": "2023-08-02T11:25:15.858857",
     "status": "completed"
    },
    "tags": []
   },
   "outputs": [
    {
     "data": {
      "image/png": "[encoded data removed]",
      "text/plain": [
       "<Figure size 432x288 with 1 Axes>"
      ]
     },
     "metadata": {
      "needs_background": "light"
     },
     "output_type": "display_data"
    }
   ],
   "source": [
    "#Find Count of  Male & Female in this Datase\n",
    "\n",
    "sns.countplot(x='sex',hue=\"target\",data=data)\n",
    "plt.xticks([0,1],['Female','Male'])\n",
    "plt.legend(labels=['not Sick','Sick'])\n",
    "plt.show()\n"
   ]
  },
  {
   "cell_type": "code",
   "execution_count": 21,
   "id": "a706acd7",
   "metadata": {
    "execution": {
     "iopub.execute_input": "2023-08-02T11:25:16.032213Z",
     "iopub.status.busy": "2023-08-02T11:25:16.030713Z",
     "iopub.status.idle": "2023-08-02T11:25:16.037139Z",
     "shell.execute_reply": "2023-08-02T11:25:16.036418Z"
    },
    "papermill": {
     "duration": 0.024636,
     "end_time": "2023-08-02T11:25:16.039407",
     "exception": false,
     "start_time": "2023-08-02T11:25:16.014771",
     "status": "completed"
    },
    "tags": []
   },
   "outputs": [
    {
     "data": {
      "text/plain": [
       "Index(['age', 'sex', 'chest pain', 'blood pressure', 'cholestoral',\n",
       "       'sugar test', 'elect_result', 'max heart rate', 'exercise angina',\n",
       "       'oldpeak', 'slope', 'num of vessels', 'thal', 'target'],\n",
       "      dtype='object')"
      ]
     },
     "execution_count": 21,
     "metadata": {},
     "output_type": "execute_result"
    }
   ],
   "source": [
    "data.columns"
   ]
  },
  {
   "cell_type": "code",
   "execution_count": 22,
   "id": "04a70983",
   "metadata": {
    "execution": {
     "iopub.execute_input": "2023-08-02T11:25:16.067937Z",
     "iopub.status.busy": "2023-08-02T11:25:16.067054Z",
     "iopub.status.idle": "2023-08-02T11:25:16.194251Z",
     "shell.execute_reply": "2023-08-02T11:25:16.193527Z"
    },
    "papermill": {
     "duration": 0.143723,
     "end_time": "2023-08-02T11:25:16.196278",
     "exception": false,
     "start_time": "2023-08-02T11:25:16.052555",
     "status": "completed"
    },
    "tags": []
   },
   "outputs": [
    {
     "data": {
      "image/png": "[encoded data removed]",
      "text/plain": [
       "<Figure size 432x288 with 1 Axes>"
      ]
     },
     "metadata": {
      "needs_background": "light"
     },
     "output_type": "display_data"
    }
   ],
   "source": [
    "#Check Age Distribution In The Dataset\n",
    "plt.hist(data['age'])\n",
    "plt.title (\"age in our data\")\n",
    "plt.show()"
   ]
  },
  {
   "cell_type": "code",
   "execution_count": 23,
   "id": "e2412d64",
   "metadata": {
    "execution": {
     "iopub.execute_input": "2023-08-02T11:25:16.228830Z",
     "iopub.status.busy": "2023-08-02T11:25:16.228298Z",
     "iopub.status.idle": "2023-08-02T11:25:16.404449Z",
     "shell.execute_reply": "2023-08-02T11:25:16.403464Z"
    },
    "papermill": {
     "duration": 0.193556,
     "end_time": "2023-08-02T11:25:16.406736",
     "exception": false,
     "start_time": "2023-08-02T11:25:16.213180",
     "status": "completed"
    },
    "tags": []
   },
   "outputs": [
    {
     "name": "stderr",
     "output_type": "stream",
     "text": [
      "/opt/conda/lib/python3.7/site-packages/seaborn/distributions.py:2619: FutureWarning: `distplot` is a deprecated function and will be removed in a future version. Please adapt your code to use either `displot` (a figure-level function with similar flexibility) or `histplot` (an axes-level function for histograms).\n",
      "  warnings.warn(msg, FutureWarning)\n"
     ]
    },
    {
     "data": {
      "image/png": "[encoded data removed]",
      "text/plain": [
       "<Figure size 432x288 with 1 Axes>"
      ]
     },
     "metadata": {
      "needs_background": "light"
     },
     "output_type": "display_data"
    }
   ],
   "source": [
    "sns.distplot(data['age'])\n",
    "plt.title (\"age in our data\")\n",
    "plt.show()"
   ]
  },
  {
   "cell_type": "code",
   "execution_count": 24,
   "id": "73d46c9e",
   "metadata": {
    "execution": {
     "iopub.execute_input": "2023-08-02T11:25:16.435125Z",
     "iopub.status.busy": "2023-08-02T11:25:16.434708Z",
     "iopub.status.idle": "2023-08-02T11:25:16.581115Z",
     "shell.execute_reply": "2023-08-02T11:25:16.580283Z"
    },
    "papermill": {
     "duration": 0.163309,
     "end_time": "2023-08-02T11:25:16.583572",
     "exception": false,
     "start_time": "2023-08-02T11:25:16.420263",
     "status": "completed"
    },
    "tags": []
   },
   "outputs": [
    {
     "data": {
      "image/png": "[encoded data removed]",
      "text/plain": [
       "<Figure size 432x288 with 1 Axes>"
      ]
     },
     "metadata": {
      "needs_background": "light"
     },
     "output_type": "display_data"
    }
   ],
   "source": [
    "#Check Age Distribution of Patients In The Dataset\n",
    "age_sick=data[data['target']==1]['age']\n",
    "\n",
    "plt.hist([age_sick])\n",
    "plt.title (\"Age of Patients in our data\")\n",
    "plt.show()"
   ]
  },
  {
   "cell_type": "code",
   "execution_count": 25,
   "id": "4e39788b",
   "metadata": {
    "execution": {
     "iopub.execute_input": "2023-08-02T11:25:16.614904Z",
     "iopub.status.busy": "2023-08-02T11:25:16.614247Z",
     "iopub.status.idle": "2023-08-02T11:25:16.785589Z",
     "shell.execute_reply": "2023-08-02T11:25:16.784378Z"
    },
    "papermill": {
     "duration": 0.188607,
     "end_time": "2023-08-02T11:25:16.787747",
     "exception": false,
     "start_time": "2023-08-02T11:25:16.599140",
     "status": "completed"
    },
    "tags": []
   },
   "outputs": [
    {
     "data": {
      "image/png": "[encoded data removed]",
      "text/plain": [
       "<Figure size 432x288 with 1 Axes>"
      ]
     },
     "metadata": {
      "needs_background": "light"
     },
     "output_type": "display_data"
    }
   ],
   "source": [
    "#Compare between age of people have heart disease and other\n",
    "age_sick=data[data['target']==1]['age']\n",
    "age_safe=data[data['target']==0]['age']\n",
    "plt.hist([age_sick,age_safe],histtype='bar',align='mid',color=['g','b'],label=['age_sick','age_safe'] )\n",
    "plt.title (\"compare between age of people have heart disease and other\")\n",
    "plt.legend()\n",
    "plt.show()"
   ]
  },
  {
   "cell_type": "code",
   "execution_count": 26,
   "id": "06c5a548",
   "metadata": {
    "execution": {
     "iopub.execute_input": "2023-08-02T11:25:16.816631Z",
     "iopub.status.busy": "2023-08-02T11:25:16.816247Z",
     "iopub.status.idle": "2023-08-02T11:25:16.823869Z",
     "shell.execute_reply": "2023-08-02T11:25:16.822787Z"
    },
    "papermill": {
     "duration": 0.024527,
     "end_time": "2023-08-02T11:25:16.825908",
     "exception": false,
     "start_time": "2023-08-02T11:25:16.801381",
     "status": "completed"
    },
    "tags": []
   },
   "outputs": [
    {
     "data": {
      "text/plain": [
       "Index(['age', 'sex', 'chest pain', 'blood pressure', 'cholestoral',\n",
       "       'sugar test', 'elect_result', 'max heart rate', 'exercise angina',\n",
       "       'oldpeak', 'slope', 'num of vessels', 'thal', 'target'],\n",
       "      dtype='object')"
      ]
     },
     "execution_count": 26,
     "metadata": {},
     "output_type": "execute_result"
    }
   ],
   "source": [
    "data.columns"
   ]
  },
  {
   "cell_type": "code",
   "execution_count": 27,
   "id": "da5ba9d8",
   "metadata": {
    "execution": {
     "iopub.execute_input": "2023-08-02T11:25:16.856017Z",
     "iopub.status.busy": "2023-08-02T11:25:16.855648Z",
     "iopub.status.idle": "2023-08-02T11:25:16.863476Z",
     "shell.execute_reply": "2023-08-02T11:25:16.862387Z"
    },
    "papermill": {
     "duration": 0.025118,
     "end_time": "2023-08-02T11:25:16.865388",
     "exception": false,
     "start_time": "2023-08-02T11:25:16.840270",
     "status": "completed"
    },
    "tags": []
   },
   "outputs": [
    {
     "data": {
      "text/plain": [
       "array([0, 1, 2, 3])"
      ]
     },
     "execution_count": 27,
     "metadata": {},
     "output_type": "execute_result"
    }
   ],
   "source": [
    "#Check Chest Pain Type\n",
    "data[\"chest pain\"].unique()"
   ]
  },
  {
   "cell_type": "code",
   "execution_count": 28,
   "id": "6333ddd1",
   "metadata": {
    "execution": {
     "iopub.execute_input": "2023-08-02T11:25:16.894818Z",
     "iopub.status.busy": "2023-08-02T11:25:16.894338Z",
     "iopub.status.idle": "2023-08-02T11:25:16.903287Z",
     "shell.execute_reply": "2023-08-02T11:25:16.901915Z"
    },
    "papermill": {
     "duration": 0.026485,
     "end_time": "2023-08-02T11:25:16.905907",
     "exception": false,
     "start_time": "2023-08-02T11:25:16.879422",
     "status": "completed"
    },
    "tags": []
   },
   "outputs": [
    {
     "data": {
      "text/plain": [
       "0    143\n",
       "2     86\n",
       "1     50\n",
       "3     23\n",
       "Name: chest pain, dtype: int64"
      ]
     },
     "execution_count": 28,
     "metadata": {},
     "output_type": "execute_result"
    }
   ],
   "source": [
    "#Find Count of Chest Pain in this Dataset\n",
    "data[\"chest pain\"].value_counts()"
   ]
  },
  {
   "cell_type": "code",
   "execution_count": 29,
   "id": "11a3f20c",
   "metadata": {
    "execution": {
     "iopub.execute_input": "2023-08-02T11:25:16.938788Z",
     "iopub.status.busy": "2023-08-02T11:25:16.938415Z",
     "iopub.status.idle": "2023-08-02T11:25:17.071735Z",
     "shell.execute_reply": "2023-08-02T11:25:17.070718Z"
    },
    "papermill": {
     "duration": 0.152616,
     "end_time": "2023-08-02T11:25:17.074004",
     "exception": false,
     "start_time": "2023-08-02T11:25:16.921388",
     "status": "completed"
    },
    "tags": []
   },
   "outputs": [
    {
     "data": {
      "image/png": "[encoded data removed]",
      "text/plain": [
       "<Figure size 432x288 with 1 Axes>"
      ]
     },
     "metadata": {
      "needs_background": "light"
     },
     "output_type": "display_data"
    }
   ],
   "source": [
    "#drow Chest Pain level\n",
    "sns.countplot(x='chest pain',data=data)\n",
    "plt.xticks([0,1,2,3],['zero','Level 1','Level 2','Level 3'])\n",
    "plt.show()"
   ]
  },
  {
   "cell_type": "code",
   "execution_count": 30,
   "id": "2794a7be",
   "metadata": {
    "execution": {
     "iopub.execute_input": "2023-08-02T11:25:17.108079Z",
     "iopub.status.busy": "2023-08-02T11:25:17.107681Z",
     "iopub.status.idle": "2023-08-02T11:25:17.274316Z",
     "shell.execute_reply": "2023-08-02T11:25:17.273050Z"
    },
    "papermill": {
     "duration": 0.184,
     "end_time": "2023-08-02T11:25:17.276480",
     "exception": false,
     "start_time": "2023-08-02T11:25:17.092480",
     "status": "completed"
    },
    "tags": []
   },
   "outputs": [
    {
     "data": {
      "image/png": "[encoded data removed]",
      "text/plain": [
       "<Figure size 432x288 with 1 Axes>"
      ]
     },
     "metadata": {
      "needs_background": "light"
     },
     "output_type": "display_data"
    }
   ],
   "source": [
    "#Show The Chest Pain Distribution As Per Target Variable\n",
    "#Compare between age of people have heart disease and other\n",
    "ChestPainSick=data[data['target']==1]['chest pain']\n",
    "ChestPainSafe=data[data['target']==0]['chest pain']\n",
    "plt.hist([ChestPainSick,ChestPainSafe],histtype='bar',align='mid',color=['g','b'],label=['ChestPainSick','ChestPainSafe'] )\n",
    "plt.xticks([0,1,2,3],['zero','Level 1','Level 2','Level 3'])\n",
    "plt.title (\"Compare between Chest Pain of people have heart disease and other\")\n",
    "plt.legend()\n",
    "plt.show()"
   ]
  },
  {
   "cell_type": "code",
   "execution_count": 31,
   "id": "88d5a2fb",
   "metadata": {
    "execution": {
     "iopub.execute_input": "2023-08-02T11:25:17.306926Z",
     "iopub.status.busy": "2023-08-02T11:25:17.306581Z",
     "iopub.status.idle": "2023-08-02T11:25:17.313774Z",
     "shell.execute_reply": "2023-08-02T11:25:17.312817Z"
    },
    "papermill": {
     "duration": 0.02481,
     "end_time": "2023-08-02T11:25:17.315752",
     "exception": false,
     "start_time": "2023-08-02T11:25:17.290942",
     "status": "completed"
    },
    "tags": []
   },
   "outputs": [
    {
     "data": {
      "text/plain": [
       "Index(['age', 'sex', 'chest pain', 'blood pressure', 'cholestoral',\n",
       "       'sugar test', 'elect_result', 'max heart rate', 'exercise angina',\n",
       "       'oldpeak', 'slope', 'num of vessels', 'thal', 'target'],\n",
       "      dtype='object')"
      ]
     },
     "execution_count": 31,
     "metadata": {},
     "output_type": "execute_result"
    }
   ],
   "source": [
    "data.columns"
   ]
  },
  {
   "cell_type": "code",
   "execution_count": 32,
   "id": "6dcab582",
   "metadata": {
    "execution": {
     "iopub.execute_input": "2023-08-02T11:25:17.347338Z",
     "iopub.status.busy": "2023-08-02T11:25:17.345931Z",
     "iopub.status.idle": "2023-08-02T11:25:17.355515Z",
     "shell.execute_reply": "2023-08-02T11:25:17.354408Z"
    },
    "papermill": {
     "duration": 0.027609,
     "end_time": "2023-08-02T11:25:17.357891",
     "exception": false,
     "start_time": "2023-08-02T11:25:17.330282",
     "status": "completed"
    },
    "tags": []
   },
   "outputs": [
    {
     "data": {
      "text/plain": [
       "array([0, 1])"
      ]
     },
     "execution_count": 32,
     "metadata": {},
     "output_type": "execute_result"
    }
   ],
   "source": [
    "#Show Fasting Blood Sugar Distribution According To Target Variable\n",
    "data[\"sugar test\"].unique()\n"
   ]
  },
  {
   "cell_type": "code",
   "execution_count": 33,
   "id": "8c7936ae",
   "metadata": {
    "execution": {
     "iopub.execute_input": "2023-08-02T11:25:17.389812Z",
     "iopub.status.busy": "2023-08-02T11:25:17.389447Z",
     "iopub.status.idle": "2023-08-02T11:25:17.397564Z",
     "shell.execute_reply": "2023-08-02T11:25:17.396428Z"
    },
    "papermill": {
     "duration": 0.026587,
     "end_time": "2023-08-02T11:25:17.399566",
     "exception": false,
     "start_time": "2023-08-02T11:25:17.372979",
     "status": "completed"
    },
    "tags": []
   },
   "outputs": [
    {
     "data": {
      "text/plain": [
       "0    257\n",
       "1     45\n",
       "Name: sugar test, dtype: int64"
      ]
     },
     "execution_count": 33,
     "metadata": {},
     "output_type": "execute_result"
    }
   ],
   "source": [
    "data[\"sugar test\"].value_counts()"
   ]
  },
  {
   "cell_type": "code",
   "execution_count": 34,
   "id": "6c1ddd0e",
   "metadata": {
    "execution": {
     "iopub.execute_input": "2023-08-02T11:25:17.431325Z",
     "iopub.status.busy": "2023-08-02T11:25:17.430951Z",
     "iopub.status.idle": "2023-08-02T11:25:17.532738Z",
     "shell.execute_reply": "2023-08-02T11:25:17.531832Z"
    },
    "papermill": {
     "duration": 0.119962,
     "end_time": "2023-08-02T11:25:17.534655",
     "exception": false,
     "start_time": "2023-08-02T11:25:17.414693",
     "status": "completed"
    },
    "tags": []
   },
   "outputs": [
    {
     "data": {
      "image/png": "[encoded data removed]",
      "text/plain": [
       "<Figure size 432x288 with 1 Axes>"
      ]
     },
     "metadata": {
      "needs_background": "light"
     },
     "output_type": "display_data"
    }
   ],
   "source": [
    "#Show Fasting Blood Sugar Distribution in our data\n",
    "sns.countplot(x='sugar test',data=data)\n",
    "#plt.xticks([0,1,],['zero','Level 1','Level 2','Level 3'])\n",
    "plt.show()"
   ]
  },
  {
   "cell_type": "code",
   "execution_count": 35,
   "id": "046650c4",
   "metadata": {
    "execution": {
     "iopub.execute_input": "2023-08-02T11:25:17.577239Z",
     "iopub.status.busy": "2023-08-02T11:25:17.576801Z",
     "iopub.status.idle": "2023-08-02T11:25:17.759865Z",
     "shell.execute_reply": "2023-08-02T11:25:17.758983Z"
    },
    "papermill": {
     "duration": 0.206967,
     "end_time": "2023-08-02T11:25:17.761853",
     "exception": false,
     "start_time": "2023-08-02T11:25:17.554886",
     "status": "completed"
    },
    "tags": []
   },
   "outputs": [
    {
     "data": {
      "image/png": "[encoded data removed]",
      "text/plain": [
       "<Figure size 432x288 with 1 Axes>"
      ]
     },
     "metadata": {
      "needs_background": "light"
     },
     "output_type": "display_data"
    }
   ],
   "source": [
    "#Show Fasting Blood Sugar Distribution According To Target Variable\n",
    "fastingBloodSick=data[data['target']==1]['sugar test']\n",
    "fastingBloodSafe=data[data['target']==0]['sugar test']\n",
    "plt.hist([fastingBloodSick,fastingBloodSafe],histtype='bar',align='mid',color=['g','b'],label=['Fasting Blood Sick','Fasting Blood Safe'] )\n",
    "#plt.xticks([0,1,2,3],['zero','Level 1','Level 2','Level 3'])\n",
    "plt.title (\"compare between Fasting Blood Sugar of people have heart disease and other\")\n",
    "plt.legend()\n",
    "plt.show()"
   ]
  },
  {
   "cell_type": "code",
   "execution_count": 36,
   "id": "f25e2ac9",
   "metadata": {
    "execution": {
     "iopub.execute_input": "2023-08-02T11:25:17.795373Z",
     "iopub.status.busy": "2023-08-02T11:25:17.794860Z",
     "iopub.status.idle": "2023-08-02T11:25:18.076881Z",
     "shell.execute_reply": "2023-08-02T11:25:18.075944Z"
    },
    "papermill": {
     "duration": 0.301722,
     "end_time": "2023-08-02T11:25:18.078936",
     "exception": false,
     "start_time": "2023-08-02T11:25:17.777214",
     "status": "completed"
    },
    "tags": []
   },
   "outputs": [
    {
     "data": {
      "image/png": "[encoded data removed]",
      "text/plain": [
       "<Figure size 432x288 with 1 Axes>"
      ]
     },
     "metadata": {
      "needs_background": "light"
     },
     "output_type": "display_data"
    }
   ],
   "source": [
    "sns.countplot(x='sugar test',hue=\"target\",data=data)\n",
    "plt.title (\"Fasting Blood Suger in our data\")\n",
    "plt.legend(labels=[\"no disease\" ,\"disease\"])\n",
    "plt.show()\n"
   ]
  },
  {
   "cell_type": "code",
   "execution_count": 37,
   "id": "f79c86b8",
   "metadata": {
    "execution": {
     "iopub.execute_input": "2023-08-02T11:25:18.116446Z",
     "iopub.status.busy": "2023-08-02T11:25:18.115434Z",
     "iopub.status.idle": "2023-08-02T11:25:18.121700Z",
     "shell.execute_reply": "2023-08-02T11:25:18.121035Z"
    },
    "papermill": {
     "duration": 0.026833,
     "end_time": "2023-08-02T11:25:18.123928",
     "exception": false,
     "start_time": "2023-08-02T11:25:18.097095",
     "status": "completed"
    },
    "tags": []
   },
   "outputs": [
    {
     "data": {
      "text/plain": [
       "Index(['age', 'sex', 'chest pain', 'blood pressure', 'cholestoral',\n",
       "       'sugar test', 'elect_result', 'max heart rate', 'exercise angina',\n",
       "       'oldpeak', 'slope', 'num of vessels', 'thal', 'target'],\n",
       "      dtype='object')"
      ]
     },
     "execution_count": 37,
     "metadata": {},
     "output_type": "execute_result"
    }
   ],
   "source": [
    "data.columns"
   ]
  },
  {
   "cell_type": "code",
   "execution_count": 38,
   "id": "6602400c",
   "metadata": {
    "execution": {
     "iopub.execute_input": "2023-08-02T11:25:18.157037Z",
     "iopub.status.busy": "2023-08-02T11:25:18.156150Z",
     "iopub.status.idle": "2023-08-02T11:25:18.164111Z",
     "shell.execute_reply": "2023-08-02T11:25:18.163233Z"
    },
    "papermill": {
     "duration": 0.026318,
     "end_time": "2023-08-02T11:25:18.166029",
     "exception": false,
     "start_time": "2023-08-02T11:25:18.139711",
     "status": "completed"
    },
    "tags": []
   },
   "outputs": [
    {
     "data": {
      "text/plain": [
       "0      125\n",
       "1      140\n",
       "2      145\n",
       "3      148\n",
       "4      138\n",
       "      ... \n",
       "723    120\n",
       "733    108\n",
       "739    128\n",
       "843    160\n",
       "878    120\n",
       "Name: blood pressure, Length: 302, dtype: int64"
      ]
     },
     "execution_count": 38,
     "metadata": {},
     "output_type": "execute_result"
    }
   ],
   "source": [
    "data['blood pressure']"
   ]
  },
  {
   "cell_type": "code",
   "execution_count": 39,
   "id": "9ece964b",
   "metadata": {
    "execution": {
     "iopub.execute_input": "2023-08-02T11:25:18.199428Z",
     "iopub.status.busy": "2023-08-02T11:25:18.199024Z",
     "iopub.status.idle": "2023-08-02T11:25:18.344156Z",
     "shell.execute_reply": "2023-08-02T11:25:18.343433Z"
    },
    "papermill": {
     "duration": 0.164123,
     "end_time": "2023-08-02T11:25:18.346175",
     "exception": false,
     "start_time": "2023-08-02T11:25:18.182052",
     "status": "completed"
    },
    "tags": []
   },
   "outputs": [
    {
     "data": {
      "image/png": "[encoded data removed]",
      "text/plain": [
       "<Figure size 432x288 with 1 Axes>"
      ]
     },
     "metadata": {
      "needs_background": "light"
     },
     "output_type": "display_data"
    }
   ],
   "source": [
    "# Check Resting Blood Pressure Distribution\n",
    "plt.hist(data['blood pressure'])\n",
    "plt.title (\"Resting Blood Pressure Distribution\")\n",
    "plt.show()"
   ]
  },
  {
   "cell_type": "code",
   "execution_count": 40,
   "id": "ac332b0c",
   "metadata": {
    "execution": {
     "iopub.execute_input": "2023-08-02T11:25:18.380974Z",
     "iopub.status.busy": "2023-08-02T11:25:18.380303Z",
     "iopub.status.idle": "2023-08-02T11:25:18.556200Z",
     "shell.execute_reply": "2023-08-02T11:25:18.555577Z"
    },
    "papermill": {
     "duration": 0.195144,
     "end_time": "2023-08-02T11:25:18.557894",
     "exception": false,
     "start_time": "2023-08-02T11:25:18.362750",
     "status": "completed"
    },
    "tags": []
   },
   "outputs": [
    {
     "data": {
      "text/plain": [
       "<AxesSubplot:>"
      ]
     },
     "execution_count": 40,
     "metadata": {},
     "output_type": "execute_result"
    },
    {
     "data": {
      "image/png": "[encoded data removed]",
      "text/plain": [
       "<Figure size 432x288 with 1 Axes>"
      ]
     },
     "metadata": {
      "needs_background": "light"
     },
     "output_type": "display_data"
    }
   ],
   "source": [
    "# Check Resting Blood Pressure Distribution of the Patients\n",
    "\n",
    "BPofPatients=data[data['target']==1]['blood pressure']\n",
    "BPofPatients.hist()"
   ]
  },
  {
   "cell_type": "code",
   "execution_count": 41,
   "id": "0615aad1",
   "metadata": {
    "execution": {
     "iopub.execute_input": "2023-08-02T11:25:18.592672Z",
     "iopub.status.busy": "2023-08-02T11:25:18.592298Z",
     "iopub.status.idle": "2023-08-02T11:25:18.820378Z",
     "shell.execute_reply": "2023-08-02T11:25:18.819151Z"
    },
    "papermill": {
     "duration": 0.248254,
     "end_time": "2023-08-02T11:25:18.822542",
     "exception": false,
     "start_time": "2023-08-02T11:25:18.574288",
     "status": "completed"
    },
    "tags": []
   },
   "outputs": [
    {
     "data": {
      "text/plain": [
       "<matplotlib.legend.Legend at 0x7cce5226f890>"
      ]
     },
     "execution_count": 41,
     "metadata": {},
     "output_type": "execute_result"
    },
    {
     "data": {
      "image/png": "[encoded data removed]",
      "text/plain": [
       "<Figure size 864x216 with 1 Axes>"
      ]
     },
     "metadata": {
      "needs_background": "light"
     },
     "output_type": "display_data"
    }
   ],
   "source": [
    "#Compare Resting Blood Pressure As Per Sex Column\n",
    "g=sns.FacetGrid(data,hue=\"target\",aspect=4)\n",
    "g.map(sns.kdeplot,'blood pressure',shade=True)\n",
    "plt.legend(labels=[\"Male\" ,\"Female\"])\n"
   ]
  },
  {
   "cell_type": "code",
   "execution_count": 42,
   "id": "3cca8994",
   "metadata": {
    "execution": {
     "iopub.execute_input": "2023-08-02T11:25:18.856909Z",
     "iopub.status.busy": "2023-08-02T11:25:18.856549Z",
     "iopub.status.idle": "2023-08-02T11:25:18.875963Z",
     "shell.execute_reply": "2023-08-02T11:25:18.874716Z"
    },
    "papermill": {
     "duration": 0.039706,
     "end_time": "2023-08-02T11:25:18.878785",
     "exception": false,
     "start_time": "2023-08-02T11:25:18.839079",
     "status": "completed"
    },
    "tags": []
   },
   "outputs": [
    {
     "data": {
      "text/html": [
       "<div>\n",
       "<style scoped>\n",
       "    .dataframe tbody tr th:only-of-type {\n",
       "        vertical-align: middle;\n",
       "    }\n",
       "\n",
       "    .dataframe tbody tr th {\n",
       "        vertical-align: top;\n",
       "    }\n",
       "\n",
       "    .dataframe thead th {\n",
       "        text-align: right;\n",
       "    }\n",
       "</style>\n",
       "<table border=\"1\" class=\"dataframe\">\n",
       "  <thead>\n",
       "    <tr style=\"text-align: right;\">\n",
       "      <th></th>\n",
       "      <th>age</th>\n",
       "      <th>sex</th>\n",
       "      <th>chest pain</th>\n",
       "      <th>blood pressure</th>\n",
       "      <th>cholestoral</th>\n",
       "      <th>sugar test</th>\n",
       "      <th>elect_result</th>\n",
       "      <th>max heart rate</th>\n",
       "      <th>exercise angina</th>\n",
       "      <th>oldpeak</th>\n",
       "      <th>slope</th>\n",
       "      <th>num of vessels</th>\n",
       "      <th>thal</th>\n",
       "      <th>target</th>\n",
       "    </tr>\n",
       "  </thead>\n",
       "  <tbody>\n",
       "    <tr>\n",
       "      <th>0</th>\n",
       "      <td>52</td>\n",
       "      <td>1</td>\n",
       "      <td>0</td>\n",
       "      <td>125</td>\n",
       "      <td>212</td>\n",
       "      <td>0</td>\n",
       "      <td>1</td>\n",
       "      <td>168</td>\n",
       "      <td>0</td>\n",
       "      <td>1.0</td>\n",
       "      <td>2</td>\n",
       "      <td>2</td>\n",
       "      <td>3</td>\n",
       "      <td>0</td>\n",
       "    </tr>\n",
       "    <tr>\n",
       "      <th>1</th>\n",
       "      <td>53</td>\n",
       "      <td>1</td>\n",
       "      <td>0</td>\n",
       "      <td>140</td>\n",
       "      <td>203</td>\n",
       "      <td>1</td>\n",
       "      <td>0</td>\n",
       "      <td>155</td>\n",
       "      <td>1</td>\n",
       "      <td>3.1</td>\n",
       "      <td>0</td>\n",
       "      <td>0</td>\n",
       "      <td>3</td>\n",
       "      <td>0</td>\n",
       "    </tr>\n",
       "    <tr>\n",
       "      <th>2</th>\n",
       "      <td>70</td>\n",
       "      <td>1</td>\n",
       "      <td>0</td>\n",
       "      <td>145</td>\n",
       "      <td>174</td>\n",
       "      <td>0</td>\n",
       "      <td>1</td>\n",
       "      <td>125</td>\n",
       "      <td>1</td>\n",
       "      <td>2.6</td>\n",
       "      <td>0</td>\n",
       "      <td>0</td>\n",
       "      <td>3</td>\n",
       "      <td>0</td>\n",
       "    </tr>\n",
       "    <tr>\n",
       "      <th>3</th>\n",
       "      <td>61</td>\n",
       "      <td>1</td>\n",
       "      <td>0</td>\n",
       "      <td>148</td>\n",
       "      <td>203</td>\n",
       "      <td>0</td>\n",
       "      <td>1</td>\n",
       "      <td>161</td>\n",
       "      <td>0</td>\n",
       "      <td>0.0</td>\n",
       "      <td>2</td>\n",
       "      <td>1</td>\n",
       "      <td>3</td>\n",
       "      <td>0</td>\n",
       "    </tr>\n",
       "    <tr>\n",
       "      <th>4</th>\n",
       "      <td>62</td>\n",
       "      <td>0</td>\n",
       "      <td>0</td>\n",
       "      <td>138</td>\n",
       "      <td>294</td>\n",
       "      <td>1</td>\n",
       "      <td>1</td>\n",
       "      <td>106</td>\n",
       "      <td>0</td>\n",
       "      <td>1.9</td>\n",
       "      <td>1</td>\n",
       "      <td>3</td>\n",
       "      <td>2</td>\n",
       "      <td>0</td>\n",
       "    </tr>\n",
       "    <tr>\n",
       "      <th>...</th>\n",
       "      <td>...</td>\n",
       "      <td>...</td>\n",
       "      <td>...</td>\n",
       "      <td>...</td>\n",
       "      <td>...</td>\n",
       "      <td>...</td>\n",
       "      <td>...</td>\n",
       "      <td>...</td>\n",
       "      <td>...</td>\n",
       "      <td>...</td>\n",
       "      <td>...</td>\n",
       "      <td>...</td>\n",
       "      <td>...</td>\n",
       "      <td>...</td>\n",
       "    </tr>\n",
       "    <tr>\n",
       "      <th>723</th>\n",
       "      <td>68</td>\n",
       "      <td>0</td>\n",
       "      <td>2</td>\n",
       "      <td>120</td>\n",
       "      <td>211</td>\n",
       "      <td>0</td>\n",
       "      <td>0</td>\n",
       "      <td>115</td>\n",
       "      <td>0</td>\n",
       "      <td>1.5</td>\n",
       "      <td>1</td>\n",
       "      <td>0</td>\n",
       "      <td>2</td>\n",
       "      <td>1</td>\n",
       "    </tr>\n",
       "    <tr>\n",
       "      <th>733</th>\n",
       "      <td>44</td>\n",
       "      <td>0</td>\n",
       "      <td>2</td>\n",
       "      <td>108</td>\n",
       "      <td>141</td>\n",
       "      <td>0</td>\n",
       "      <td>1</td>\n",
       "      <td>175</td>\n",
       "      <td>0</td>\n",
       "      <td>0.6</td>\n",
       "      <td>1</td>\n",
       "      <td>0</td>\n",
       "      <td>2</td>\n",
       "      <td>1</td>\n",
       "    </tr>\n",
       "    <tr>\n",
       "      <th>739</th>\n",
       "      <td>52</td>\n",
       "      <td>1</td>\n",
       "      <td>0</td>\n",
       "      <td>128</td>\n",
       "      <td>255</td>\n",
       "      <td>0</td>\n",
       "      <td>1</td>\n",
       "      <td>161</td>\n",
       "      <td>1</td>\n",
       "      <td>0.0</td>\n",
       "      <td>2</td>\n",
       "      <td>1</td>\n",
       "      <td>3</td>\n",
       "      <td>0</td>\n",
       "    </tr>\n",
       "    <tr>\n",
       "      <th>843</th>\n",
       "      <td>59</td>\n",
       "      <td>1</td>\n",
       "      <td>3</td>\n",
       "      <td>160</td>\n",
       "      <td>273</td>\n",
       "      <td>0</td>\n",
       "      <td>0</td>\n",
       "      <td>125</td>\n",
       "      <td>0</td>\n",
       "      <td>0.0</td>\n",
       "      <td>2</td>\n",
       "      <td>0</td>\n",
       "      <td>2</td>\n",
       "      <td>0</td>\n",
       "    </tr>\n",
       "    <tr>\n",
       "      <th>878</th>\n",
       "      <td>54</td>\n",
       "      <td>1</td>\n",
       "      <td>0</td>\n",
       "      <td>120</td>\n",
       "      <td>188</td>\n",
       "      <td>0</td>\n",
       "      <td>1</td>\n",
       "      <td>113</td>\n",
       "      <td>0</td>\n",
       "      <td>1.4</td>\n",
       "      <td>1</td>\n",
       "      <td>1</td>\n",
       "      <td>3</td>\n",
       "      <td>0</td>\n",
       "    </tr>\n",
       "  </tbody>\n",
       "</table>\n",
       "<p>302 rows × 14 columns</p>\n",
       "</div>"
      ],
      "text/plain": [
       "     age  sex  chest pain  blood pressure  cholestoral  sugar test  \\\n",
       "0     52    1           0             125          212           0   \n",
       "1     53    1           0             140          203           1   \n",
       "2     70    1           0             145          174           0   \n",
       "3     61    1           0             148          203           0   \n",
       "4     62    0           0             138          294           1   \n",
       "..   ...  ...         ...             ...          ...         ...   \n",
       "723   68    0           2             120          211           0   \n",
       "733   44    0           2             108          141           0   \n",
       "739   52    1           0             128          255           0   \n",
       "843   59    1           3             160          273           0   \n",
       "878   54    1           0             120          188           0   \n",
       "\n",
       "     elect_result  max heart rate  exercise angina  oldpeak  slope  \\\n",
       "0               1             168                0      1.0      2   \n",
       "1               0             155                1      3.1      0   \n",
       "2               1             125                1      2.6      0   \n",
       "3               1             161                0      0.0      2   \n",
       "4               1             106                0      1.9      1   \n",
       "..            ...             ...              ...      ...    ...   \n",
       "723             0             115                0      1.5      1   \n",
       "733             1             175                0      0.6      1   \n",
       "739             1             161                1      0.0      2   \n",
       "843             0             125                0      0.0      2   \n",
       "878             1             113                0      1.4      1   \n",
       "\n",
       "     num of vessels  thal  target  \n",
       "0                 2     3       0  \n",
       "1                 0     3       0  \n",
       "2                 0     3       0  \n",
       "3                 1     3       0  \n",
       "4                 3     2       0  \n",
       "..              ...   ...     ...  \n",
       "723               0     2       1  \n",
       "733               0     2       1  \n",
       "739               1     3       0  \n",
       "843               0     2       0  \n",
       "878               1     3       0  \n",
       "\n",
       "[302 rows x 14 columns]"
      ]
     },
     "execution_count": 42,
     "metadata": {},
     "output_type": "execute_result"
    }
   ],
   "source": [
    "\n",
    "data"
   ]
  },
  {
   "cell_type": "code",
   "execution_count": null,
   "id": "920c7f48",
   "metadata": {
    "papermill": {
     "duration": 0.017829,
     "end_time": "2023-08-02T11:25:18.913603",
     "exception": false,
     "start_time": "2023-08-02T11:25:18.895774",
     "status": "completed"
    },
    "tags": []
   },
   "outputs": [],
   "source": []
  },
  {
   "cell_type": "code",
   "execution_count": null,
   "id": "2356fa81",
   "metadata": {
    "papermill": {
     "duration": 0.018171,
     "end_time": "2023-08-02T11:25:18.949536",
     "exception": false,
     "start_time": "2023-08-02T11:25:18.931365",
     "status": "completed"
    },
    "tags": []
   },
   "outputs": [],
   "source": []
  }
 ],
 "metadata": {
  "kernelspec": {
   "display_name": "Python 3",
   "language": "python",
   "name": "python3"
  },
  "language_info": {
   "codemirror_mode": {
    "name": "ipython",
    "version": 3
   },
   "file_extension": ".py",
   "mimetype": "text/x-python",
   "name": "python",
   "nbconvert_exporter": "python",
   "pygments_lexer": "ipython3",
   "version": "3.7.12"
  },
  "papermill": {
   "default_parameters": {},
   "duration": 15.506524,
   "end_time": "2023-08-02T11:25:19.689870",
   "environment_variables": {},
   "exception": null,
   "input_path": "__notebook__.ipynb",
   "output_path": "__notebook__.ipynb",
   "parameters": {},
   "start_time": "2023-08-02T11:25:04.183346",
   "version": "2.3.4"
  }
 },
 "nbformat": 4,
 "nbformat_minor": 5
}
